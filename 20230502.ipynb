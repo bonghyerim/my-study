{
  "cells": [
    {
      "cell_type": "markdown",
      "metadata": {
        "id": "view-in-github",
        "colab_type": "text"
      },
      "source": [
        "<a href=\"https://colab.research.google.com/github/bonghyerim/my-study/blob/main/20230502.ipynb\" target=\"_parent\"><img src=\"https://colab.research.google.com/assets/colab-badge.svg\" alt=\"Open In Colab\"/></a>"
      ]
    },
    {
      "cell_type": "code",
      "execution_count": null,
      "metadata": {
        "id": "6iZ4wQO26vzy"
      },
      "outputs": [],
      "source": [
        "def Sandwich(eggs):\n",
        "  eggs.append(1) # 기존 객체의 주소값에 [1]추가\n",
        "  eggs = [2, 3]\n",
        "\n",
        "ham = [0]\n",
        "Sandwich(ham)\n",
        "print(ham) # [0, 1]\n",
        "print(eggs)\n",
        "\n"
      ]
    },
    {
      "cell_type": "markdown",
      "metadata": {
        "id": "3mVP3-lV8UN5"
      },
      "source": [
        "- 3가지 전달 방식"
      ]
    },
    {
      "cell_type": "code",
      "execution_count": null,
      "metadata": {
        "id": "hRC7ec5o7Hzs"
      },
      "outputs": [],
      "source": [
        "# 1번 함수\n",
        "def swap_value(x, y):\n",
        "  temp = x\n",
        "  x = y\n",
        "  y = temp\n",
        "\n",
        "# 2번 함수\n",
        "def swap_offset(offset_x, offset_y):\n",
        "  temp = a[offset_x]\n",
        "  a[offset_x] = a[offset_y]\n",
        "  a[offset_y] = temp\n",
        "\n",
        "# 3번 함수\n",
        "def swap_reference(list, offset_x, offset_y):\n",
        "  temp = list[offset_x]\n",
        "  list[offset_x] = list[offset_y]\n",
        "  list[offset_y] = temp\n",
        "\n",
        "# 테스트\n",
        "a = [1, 2, 3, 4, 5]\n",
        "swap_value(a[1], a[2])\n",
        "print(a) # [1, 2, 3, 4, 5] swap 발생 안 함\n",
        "swap_offset(1, 2)\n",
        "print(a) # [1, 3, 2, 4, 5] swap 발생\n",
        "swap_reference(a, 1, 2)\n",
        "print(a) # [1, 2, 3, 4, 5] swap 발생 안 함"
      ]
    },
    {
      "cell_type": "markdown",
      "metadata": {
        "id": "lRGiYk5r9jEK"
      },
      "source": [
        "P.225 연습문제"
      ]
    },
    {
      "cell_type": "code",
      "execution_count": null,
      "metadata": {
        "id": "eieAwKZe9kwK"
      },
      "outputs": [],
      "source": [
        "def div3(a,b):\n",
        "  if a < b:\n",
        "    big = b\n",
        "    small = a\n",
        "  elif b < a:\n",
        "    big = a\n",
        "    small = b\n",
        "  else:\n",
        "    print('정수가 아닙니다.')\n",
        "  if small == 0:\n",
        "    print('0은 사용할 수 없습니다.')\n",
        "  elif abs(big) < 0 or abs(small) < 0:\n",
        "    print('정수를 입력해 주세요')\n",
        "  else:\n",
        "    q  = big // small\n",
        "    r = big % small\n",
        "    return(q, r)\n",
        "  "
      ]
    },
    {
      "cell_type": "code",
      "execution_count": null,
      "metadata": {
        "id": "gNZmMxPd-5-q"
      },
      "outputs": [],
      "source": [
        "div3(0,5)"
      ]
    },
    {
      "cell_type": "code",
      "execution_count": null,
      "metadata": {
        "id": "5iQrSDxiAwOz"
      },
      "outputs": [],
      "source": [
        "div3(3,5)"
      ]
    },
    {
      "cell_type": "code",
      "execution_count": null,
      "metadata": {
        "id": "m_5cDvJeAz_r"
      },
      "outputs": [],
      "source": [
        "div3(10,1)"
      ]
    },
    {
      "cell_type": "markdown",
      "metadata": {
        "id": "6IoZxz9gHXKd"
      },
      "source": [
        "P.229) 연습문제"
      ]
    },
    {
      "cell_type": "code",
      "execution_count": null,
      "metadata": {
        "id": "pwlZSlLbGDRd"
      },
      "outputs": [],
      "source": [
        "def func(string, unit=2):\n",
        "  i = 0\n",
        "  while i<len(string):\n",
        "    print(string[i:i+unit])\n",
        "    i += unit\n",
        "\n",
        "func('테스트를 위한 문장입니다')"
      ]
    },
    {
      "cell_type": "code",
      "execution_count": null,
      "metadata": {
        "id": "bTksmWB6HZbd"
      },
      "outputs": [],
      "source": [
        "def test(*args):\n",
        "  print(args)"
      ]
    },
    {
      "cell_type": "code",
      "execution_count": null,
      "metadata": {
        "id": "4ZxpW0n2IW_v",
        "colab": {
          "base_uri": "https://localhost:8080/"
        },
        "outputId": "de371a84-17b4-4e3b-aac7-7c55a3210fda"
      },
      "outputs": [
        {
          "output_type": "execute_result",
          "data": {
            "text/plain": [
              "<function __main__.test(*args)>"
            ]
          },
          "metadata": {},
          "execution_count": 183
        }
      ],
      "source": [
        "test"
      ]
    },
    {
      "cell_type": "code",
      "execution_count": null,
      "metadata": {
        "id": "Oh4H18oPIaTW"
      },
      "outputs": [],
      "source": [
        "test([1, 2],3)"
      ]
    },
    {
      "cell_type": "code",
      "execution_count": null,
      "metadata": {
        "id": "NlBg4AoYIc-u"
      },
      "outputs": [],
      "source": [
        "test([1, 2])"
      ]
    },
    {
      "cell_type": "code",
      "execution_count": null,
      "metadata": {
        "id": "WZuGHkUqIkfO"
      },
      "outputs": [],
      "source": [
        "def test2(**kwargs):\n",
        "  print(kwargs)"
      ]
    },
    {
      "cell_type": "code",
      "execution_count": null,
      "metadata": {
        "id": "HK-9N19dIfku"
      },
      "outputs": [],
      "source": [
        "test2(a=1, b=2, c=3)"
      ]
    },
    {
      "cell_type": "code",
      "execution_count": null,
      "metadata": {
        "id": "dkyCzMS8Iv4G"
      },
      "outputs": [],
      "source": [
        "def add_all(*inputs):\n",
        "    s=0\n",
        "    for i in range(len(inputs)):\n",
        "      s += inputs\n",
        "    return s"
      ]
    },
    {
      "cell_type": "code",
      "execution_count": null,
      "metadata": {
        "id": "JKDT4IggMjxo"
      },
      "outputs": [],
      "source": [
        "def add_all2(*inputs):\n",
        "    return sum"
      ]
    },
    {
      "cell_type": "code",
      "execution_count": null,
      "metadata": {
        "id": "w2kdITchMDAo"
      },
      "outputs": [],
      "source": [
        "add_all([1, 2, 3, 4, 5, 6, 7, 8, 9, 10])"
      ]
    },
    {
      "cell_type": "code",
      "execution_count": null,
      "metadata": {
        "id": "lLkseF5cMOmg"
      },
      "outputs": [],
      "source": [
        "def add_all3(*args):\n",
        "  s=0\n",
        "  for i in args:\n",
        "    for j in i:\n",
        "      s += j\n",
        "    return s"
      ]
    },
    {
      "cell_type": "code",
      "execution_count": null,
      "metadata": {
        "id": "xSQ_QpLqMC23"
      },
      "outputs": [],
      "source": [
        "add_all3([1, 2, 3, 4, 5, 6, 7, 8, 9, 10])"
      ]
    },
    {
      "cell_type": "code",
      "execution_count": null,
      "metadata": {
        "id": "63BkMeP1NI9Z"
      },
      "outputs": [],
      "source": [
        "def add_all4(*args):\n",
        "  temp = 0\n",
        "  for i in range(len(args)):\n",
        "    if type(args[i]) == list:\n",
        "      for j in args[i]:\n",
        "        temp += j\n",
        "    else :\n",
        "      temp += args[i]\n",
        "  return temp"
      ]
    },
    {
      "cell_type": "code",
      "execution_count": null,
      "metadata": {
        "id": "WGwAzCVaNlgx"
      },
      "outputs": [],
      "source": [
        "add_all4([1, 2, 3, 4, 5, 6, 7, 8, 9, 10])"
      ]
    },
    {
      "cell_type": "markdown",
      "metadata": {
        "id": "w1iiY6Q-OoLQ"
      },
      "source": [
        "- 팩토리얼을 구하시오."
      ]
    },
    {
      "cell_type": "code",
      "execution_count": null,
      "metadata": {
        "id": "XJO_xacoOlaQ"
      },
      "outputs": [],
      "source": [
        "# 재귀적으로 하지 않은 것\n",
        "def fant(n):\n",
        "  f=1 #곱을 계산할 변수의 초깃값\n",
        "  for i in range(1, n+1): #1부터 n까지 반복\n",
        "    f = f*i #곱셈 연산\n",
        "  return f"
      ]
    },
    {
      "cell_type": "code",
      "execution_count": null,
      "metadata": {
        "id": "5Fn2-iCnT0gD"
      },
      "outputs": [],
      "source": [
        "# 재귀적으로 하는 것.\n",
        "def fact(n):\n",
        "  if n <= 1: #n 이 1 이하이면 종료조건\n",
        "    return 1\n",
        "  return n * fact(n-1)"
      ]
    },
    {
      "cell_type": "code",
      "execution_count": null,
      "metadata": {
        "id": "yj9Jby7TT0bb"
      },
      "outputs": [],
      "source": [
        "fact(5)"
      ]
    },
    {
      "cell_type": "markdown",
      "metadata": {
        "id": "yqDajj18V35z"
      },
      "source": [
        "P.242"
      ]
    },
    {
      "cell_type": "code",
      "execution_count": null,
      "metadata": {
        "id": "OEYAInOUUnsT"
      },
      "outputs": [],
      "source": [
        "people = ['펭수', '뽀로로', '뚝딱이', '텔레토비']\n",
        "\n",
        "def func1(line):\n",
        "  new_lines = []\n",
        "  i = 1 #대기번호를 트래킹하는 변수 i\n",
        "  for x in line:\n",
        "    print('대기번호 %d 번 : %s' %(i,x))\n",
        "    new_lines.append((i,x))\n",
        "    i += 1 #별도로 업데이트를 해줘야 함.\n",
        "  return new_lines"
      ]
    },
    {
      "cell_type": "code",
      "execution_count": null,
      "metadata": {
        "id": "_EDeRjkZVzED"
      },
      "outputs": [],
      "source": [
        "line = func1(people)"
      ]
    },
    {
      "cell_type": "markdown",
      "metadata": {
        "id": "D4iBRYyjXKdU"
      },
      "source": [
        "- enumerate(열거하다)\n",
        "  - 반복 가능한 객체의 인덱스와 원소에 함께 접근할 수 있는 함수"
      ]
    },
    {
      "cell_type": "code",
      "execution_count": null,
      "metadata": {
        "id": "1WbZg16RXIsk"
      },
      "outputs": [],
      "source": [
        "lst = ['a','b','c']\n",
        "for x in enumerate(lst):\n",
        "  print(x)\n",
        "\n",
        "lst1 = 'abcd'\n",
        "for x in enumerate(lst1):\n",
        "  print(x)"
      ]
    },
    {
      "cell_type": "code",
      "execution_count": null,
      "metadata": {
        "id": "Etu9q1tQXbL1"
      },
      "outputs": [],
      "source": [
        "people = ['펭수', '뽀로로', '뚝딱이', '텔레토비']\n",
        "\n",
        "def func1(line):\n",
        "  new_lines = []\n",
        "  for idx,val in enumerate(line):\n",
        "    print('대기번호 %d 번 : %s' %(idx, val))\n",
        "    new_lines.append((idx+1, val))\n",
        "  return new_lines"
      ]
    },
    {
      "cell_type": "code",
      "execution_count": null,
      "metadata": {
        "colab": {
          "base_uri": "https://localhost:8080/"
        },
        "id": "cjFrfR0jX-lf",
        "outputId": "d3ad83c8-da58-4901-f69a-0272697f7a40"
      },
      "outputs": [
        {
          "name": "stdout",
          "output_type": "stream",
          "text": [
            "대기번호 0 번 : 펭수\n",
            "대기번호 1 번 : 뽀로로\n",
            "대기번호 2 번 : 뚝딱이\n",
            "대기번호 3 번 : 텔레토비\n"
          ]
        }
      ],
      "source": [
        "line = func1(people)"
      ]
    },
    {
      "cell_type": "markdown",
      "metadata": {
        "id": "9PvYRyfOYV50"
      },
      "source": [
        "- zip\n",
        "  - 반복 가능한 객체들을 (2개 이상) 병렬적으로 묶어주는 함수\n",
        "  - 각 원소들을 튜플의 형식으로 묶어줌"
      ]
    },
    {
      "cell_type": "code",
      "execution_count": null,
      "metadata": {
        "colab": {
          "base_uri": "https://localhost:8080/"
        },
        "id": "FRQ1UF25YVo1",
        "outputId": "4c12b0a5-21e7-45c5-c001-78b147becacc"
      },
      "outputs": [
        {
          "name": "stdout",
          "output_type": "stream",
          "text": [
            "(1, 'one')\n",
            "(2, 'two')\n",
            "(3, 'three')\n",
            "(4, 'four')\n"
          ]
        }
      ],
      "source": [
        "str_list = ['one','two','three','four']\n",
        "num_list = [1, 2, 3, 4]\n",
        "\n",
        "for i in zip(num_list, str_list):\n",
        "  print(i)"
      ]
    },
    {
      "cell_type": "markdown",
      "metadata": {
        "id": "x_P9KpbzZLaN"
      },
      "source": [
        "- lambda\n",
        "  - 한 줄을 실행한 결과 값이 바로 반환이 됨"
      ]
    },
    {
      "cell_type": "code",
      "execution_count": null,
      "metadata": {
        "id": "4VP1jwIpZQ6c"
      },
      "outputs": [],
      "source": [
        "def plus_two(num) :\n",
        "  return num + 2"
      ]
    },
    {
      "cell_type": "code",
      "execution_count": null,
      "metadata": {
        "id": "fELkC-W7YoxN"
      },
      "outputs": [],
      "source": [
        "a = 2\n",
        "b = plus_two(a)\n",
        "print(b)"
      ]
    },
    {
      "cell_type": "code",
      "execution_count": null,
      "metadata": {
        "id": "bbojQrLJZbkV"
      },
      "outputs": [],
      "source": [
        "lambda x : x + 2  # 람다는 함수를 생성함"
      ]
    },
    {
      "cell_type": "code",
      "execution_count": null,
      "metadata": {
        "id": "xMm9hKdLZfj1"
      },
      "outputs": [],
      "source": [
        "func2 = lambda x : x + 2\n",
        "\n",
        "c = func2(2)\n",
        "c"
      ]
    },
    {
      "cell_type": "code",
      "execution_count": null,
      "metadata": {
        "id": "9wneNzUoZ5S9"
      },
      "outputs": [],
      "source": [
        "items = [1, 2, 3, 4, 5]\n",
        "\n",
        "squared = []\n",
        "for i in items :\n",
        "  squared.append(i*i)\n",
        "\n",
        "print(squared)"
      ]
    },
    {
      "cell_type": "code",
      "execution_count": null,
      "metadata": {
        "id": "EbjqeTaMaO2G"
      },
      "outputs": [],
      "source": [
        "squared_map = list(map(lambda x : x**2, items))\n",
        "print(squared_map)"
      ]
    },
    {
      "cell_type": "code",
      "execution_count": null,
      "metadata": {
        "id": "7x5dnk94a89G"
      },
      "outputs": [],
      "source": [
        "items=[1, 24, 3, 6, 7]\n",
        "str_items = list(map(lambda x : str(x), items))\n",
        "\n",
        "print(str_items)"
      ]
    },
    {
      "cell_type": "markdown",
      "metadata": {
        "id": "Ke_Sm_sKcJV2"
      },
      "source": [
        "- list comprehension\n",
        "\n"
      ]
    },
    {
      "cell_type": "markdown",
      "metadata": {
        "id": "XgAbdW6bcPbu"
      },
      "source": [
        "- 0~9까지 순서대로 가지고 있는 리스트를 만드세요."
      ]
    },
    {
      "cell_type": "code",
      "execution_count": null,
      "metadata": {
        "colab": {
          "base_uri": "https://localhost:8080/"
        },
        "id": "ejZcF3RabQ_n",
        "outputId": "b6c73e84-376d-47f6-cf71-6a1d9b030d76"
      },
      "outputs": [
        {
          "name": "stdout",
          "output_type": "stream",
          "text": [
            "[0, 1, 2, 3, 4, 5, 6, 7, 8, 9]\n"
          ]
        }
      ],
      "source": [
        "#1. \n",
        "list_1 = [0, 1, 2, 3, 4, 5, 6, 7, 8, 9]\n",
        "\n",
        "#2.\n",
        "list_2 = []\n",
        "for x in range(10):\n",
        "  list_2.append(x)\n",
        "print(list_2)"
      ]
    },
    {
      "cell_type": "code",
      "execution_count": null,
      "metadata": {
        "id": "-9bRrRvgcg23"
      },
      "outputs": [],
      "source": [
        "lc_1 = [x for x in range(10)]\n",
        "print(lc_1)\n",
        "\n"
      ]
    },
    {
      "cell_type": "code",
      "execution_count": null,
      "metadata": {
        "colab": {
          "base_uri": "https://localhost:8080/"
        },
        "id": "7GAFJZiLdORX",
        "outputId": "0e4844f6-8fec-4519-c7b9-48d80fd4b337"
      },
      "outputs": [
        {
          "output_type": "stream",
          "name": "stdout",
          "text": [
            "[2, 4, 6, 8, 10, 12, 14, 16, 18]\n"
          ]
        }
      ],
      "source": [
        "tables = [2 *x for x in range(1, 10)]\n",
        "print(tables)"
      ]
    },
    {
      "cell_type": "code",
      "source": [
        "#2) 코로나 바이러스\n",
        "sentence = '코로나 바이러스를 예방하기 위해 사회적 거리두기를 실천합시다. 마스크를 끼고 손씻기를 생활화 합시다.'\n",
        "\n",
        "len_sent = [len(s) for s in sentence.split()]\n",
        "print(len_sent)"
      ],
      "metadata": {
        "colab": {
          "base_uri": "https://localhost:8080/"
        },
        "id": "oLwEwKekee9Q",
        "outputId": "f400f087-adc9-41ee-b1a6-2acffc4d6a0e"
      },
      "execution_count": null,
      "outputs": [
        {
          "output_type": "stream",
          "name": "stdout",
          "text": [
            "[3, 5, 4, 2, 3, 5, 6, 4, 2, 4, 3, 4]\n"
          ]
        }
      ]
    },
    {
      "cell_type": "markdown",
      "source": [
        "p. 258\n",
        "- for문 + if문\n",
        "  - 10부터 20까지의 숫자들 중에서 짝수만을 담은 리스트를 만들어보자"
      ],
      "metadata": {
        "id": "XnqobBgNhMPY"
      }
    },
    {
      "cell_type": "code",
      "source": [
        "list3 = []\n",
        "for x in range(10,21):\n",
        "  if x % 2 == 0:\n",
        "    list3.append(x)\n",
        "print(list3)\n",
        "\n",
        "lc_2 = [x for x in range(10,21) if x % 2 ==0]\n",
        "print(lc_2)"
      ],
      "metadata": {
        "id": "8qvxA7MhhVTR"
      },
      "execution_count": null,
      "outputs": []
    },
    {
      "cell_type": "code",
      "source": [
        "#1)\n",
        "\n",
        "lc_3 = [x for x in range(1,11) if x ** 2 <= 50]\n",
        "\n",
        "print(lc_3)\n",
        "\n",
        "#2)\n",
        "lc_4 = [s for s in sentence.split() if len(s) < 5]\n",
        "print(lc_4)"
      ],
      "metadata": {
        "colab": {
          "base_uri": "https://localhost:8080/"
        },
        "id": "8-k50SpfhnOx",
        "outputId": "8eead61e-145b-437a-a60d-81ca7a92324e"
      },
      "execution_count": null,
      "outputs": [
        {
          "output_type": "stream",
          "name": "stdout",
          "text": [
            "[1, 2, 3, 4, 5, 6, 7]\n",
            "['코로나', '예방하기', '위해', '사회적', '마스크를', '끼고', '손씻기를', '생활화', '합시다.']\n"
          ]
        }
      ]
    },
    {
      "cell_type": "markdown",
      "source": [
        "- for + if + else\n",
        "  - 1부터 10까지의 숫자들 중 홀수이면 어떤 제곱수를, 짝수이면 세 제곱 수를 담은 리스트를 만들어보자"
      ],
      "metadata": {
        "id": "NG3_UVcejel7"
      }
    },
    {
      "cell_type": "code",
      "source": [
        "list_4 = []\n",
        "for x in range(1, 11):\n",
        "  if x % 2 == 1:\n",
        "    list_4.append(x ** 2)\n",
        "  else :\n",
        "    list_4.append(x ** 3)\n",
        "\n",
        "list_4"
      ],
      "metadata": {
        "colab": {
          "base_uri": "https://localhost:8080/"
        },
        "id": "EWUtCFQ8jmXi",
        "outputId": "8df63110-81ce-4056-9372-85c819296443"
      },
      "execution_count": null,
      "outputs": [
        {
          "output_type": "execute_result",
          "data": {
            "text/plain": [
              "[1, 8, 9, 64, 25, 216, 49, 512, 81, 1000]"
            ]
          },
          "metadata": {},
          "execution_count": 126
        }
      ]
    },
    {
      "cell_type": "code",
      "source": [
        "[x **2 if x % 2 == 0 else x ** 3 for x in range(1, 11)]\n",
        "\n",
        "# 조건이 2 개이면 앞으로 튕겨가야 한다?"
      ],
      "metadata": {
        "colab": {
          "base_uri": "https://localhost:8080/"
        },
        "id": "t3HoLd4mjzBi",
        "outputId": "68fbc13f-2c79-457b-c889-4303439da20f"
      },
      "execution_count": null,
      "outputs": [
        {
          "output_type": "execute_result",
          "data": {
            "text/plain": [
              "[1, 4, 27, 16, 125, 36, 343, 64, 729, 100]"
            ]
          },
          "metadata": {},
          "execution_count": 127
        }
      ]
    },
    {
      "cell_type": "code",
      "source": [
        "word_1 = 'Hello'\n",
        "word_2 = 'World'\n",
        "\n",
        "result = [i+j for i in word_1 for j in word_2]\n",
        "result"
      ],
      "metadata": {
        "id": "Uu_RPOrPj9vx"
      },
      "execution_count": null,
      "outputs": []
    },
    {
      "cell_type": "code",
      "source": [
        "# 40 이하의 숫자는 5를 더하고 40초과의 숫자는 41로 바꾸어 리스트로 저장하고, 리스트로 출력하라\n",
        "\n",
        "# 저장할 값 if 조건 else 저장할 값 for 원소 in 반복가능한 객체\n",
        "\n",
        "list_5 = [12, 67, 32, 48, 19, 57, 29, 49]\n",
        "lc_6 = [x+5 if x <=40 else 41 for x in list_5]\n",
        "lc_6"
      ],
      "metadata": {
        "colab": {
          "base_uri": "https://localhost:8080/"
        },
        "id": "qI67AOMukn_z",
        "outputId": "8b111447-4541-48ad-88dc-aa84e761f43c"
      },
      "execution_count": null,
      "outputs": [
        {
          "output_type": "execute_result",
          "data": {
            "text/plain": [
              "[17, 41, 37, 41, 24, 41, 34, 41]"
            ]
          },
          "metadata": {},
          "execution_count": 144
        }
      ]
    },
    {
      "cell_type": "code",
      "source": [
        "students = {\"보라돌이\":61, \"뚜비\":35, \"나나\":78, \"뽀\":88}\n",
        "\n",
        "result = [(name,True) if score > 60 else (name, False) for name,score in students.items()]\n",
        "result"
      ],
      "metadata": {
        "colab": {
          "base_uri": "https://localhost:8080/"
        },
        "id": "cZf2XE-TmmcE",
        "outputId": "76451b39-ac63-4eed-d099-261db1645769"
      },
      "execution_count": null,
      "outputs": [
        {
          "output_type": "execute_result",
          "data": {
            "text/plain": [
              "[('보라돌이', True), ('뚜비', False), ('나나', True), ('뽀', True)]"
            ]
          },
          "metadata": {},
          "execution_count": 145
        }
      ]
    },
    {
      "cell_type": "code",
      "source": [
        "import numpy as np\n",
        "\n",
        "n=1000000\n",
        "numpy_arr = np.arange(n)\n",
        "python_list = list(range(n))"
      ],
      "metadata": {
        "id": "WANMD-p7NlFs"
      },
      "execution_count": null,
      "outputs": []
    },
    {
      "cell_type": "code",
      "source": [
        "%%time\n",
        "#jupy notebook\n",
        "python_list = [x**3+10 for x in python_list]"
      ],
      "metadata": {
        "colab": {
          "base_uri": "https://localhost:8080/"
        },
        "id": "GTEDkJPDNtxM",
        "outputId": "12eea5e0-2b37-4466-9f66-57d74670466e"
      },
      "execution_count": null,
      "outputs": [
        {
          "output_type": "stream",
          "name": "stdout",
          "text": [
            "CPU times: user 364 ms, sys: 27.4 ms, total: 391 ms\n",
            "Wall time: 395 ms\n"
          ]
        }
      ]
    },
    {
      "cell_type": "code",
      "source": [
        "%%time\n",
        "numpy_arr = numpy_arr**3+10"
      ],
      "metadata": {
        "colab": {
          "base_uri": "https://localhost:8080/"
        },
        "id": "H-HKz1g9N330",
        "outputId": "8ee7a6b7-b5fc-4bad-c134-aa744e3e7d55"
      },
      "execution_count": null,
      "outputs": [
        {
          "output_type": "stream",
          "name": "stdout",
          "text": [
            "CPU times: user 10.7 ms, sys: 3.27 ms, total: 14 ms\n",
            "Wall time: 23.9 ms\n"
          ]
        }
      ]
    },
    {
      "cell_type": "code",
      "source": [
        "A = [1, 2, 3, 4]\n",
        "\n",
        "a = np.array(A, np.int)\n",
        "print(type(a))\n",
        "print(a)            "
      ],
      "metadata": {
        "colab": {
          "base_uri": "https://localhost:8080/"
        },
        "id": "eqzttH4XOAlL",
        "outputId": "7ee6ade5-dea7-4e31-d254-6e9aa91c9fcb"
      },
      "execution_count": null,
      "outputs": [
        {
          "metadata": {
            "tags": null
          },
          "name": "stdout",
          "output_type": "stream",
          "text": [
            "<class 'numpy.ndarray'>\n",
            "[1 2 3 4]\n"
          ]
        },
        {
          "metadata": {
            "tags": null
          },
          "name": "stderr",
          "output_type": "stream",
          "text": [
            "<ipython-input-152-15ac1bea8b15>:3: DeprecationWarning: `np.int` is a deprecated alias for the builtin `int`. To silence this warning, use `int` by itself. Doing this will not modify any behavior and is safe. When replacing `np.int`, you may wish to use e.g. `np.int64` or `np.int32` to specify the precision. If you wish to review your current use, check the release note link for additional information.\n",
            "Deprecated in NumPy 1.20; for more details and guidance: https://numpy.org/devdocs/release/1.20.0-notes.html#deprecations\n",
            "  a = np.array(A, np.int)\n"
          ]
        }
      ]
    },
    {
      "cell_type": "markdown",
      "source": [
        "- 벡터화\n",
        "  - 배열은 for문을 작성하지 않고 데이터를 일괄처리 하는 것"
      ],
      "metadata": {
        "id": "d4whrqw0QSQN"
      }
    },
    {
      "cell_type": "code",
      "source": [
        "arr = np.array([[1,2,3],[4,5,6]])\n",
        "arr"
      ],
      "metadata": {
        "id": "PlM2SHe5P_WG"
      },
      "execution_count": null,
      "outputs": []
    },
    {
      "cell_type": "code",
      "source": [
        "arr + arr"
      ],
      "metadata": {
        "id": "6sXVQHc8QQhx"
      },
      "execution_count": null,
      "outputs": []
    },
    {
      "cell_type": "code",
      "source": [
        "arr / arr"
      ],
      "metadata": {
        "id": "dIT0CWejQhV1"
      },
      "execution_count": null,
      "outputs": []
    },
    {
      "cell_type": "markdown",
      "source": [
        "- 브로드캐스팅\n",
        "  - 다른 모양의 배열 간의 산술 연산을 수행할 수 있도록 해주는 numpy의 기능"
      ],
      "metadata": {
        "id": "U-aGIEuOQzNN"
      }
    },
    {
      "cell_type": "code",
      "source": [
        "arr"
      ],
      "metadata": {
        "colab": {
          "base_uri": "https://localhost:8080/"
        },
        "id": "PgJHYhQOQyhN",
        "outputId": "1ab6245d-f02d-47c1-8e49-861bfdb27288"
      },
      "execution_count": null,
      "outputs": [
        {
          "output_type": "execute_result",
          "data": {
            "text/plain": [
              "array([[1, 2, 3],\n",
              "       [4, 5, 6]])"
            ]
          },
          "metadata": {},
          "execution_count": 159
        }
      ]
    },
    {
      "cell_type": "code",
      "source": [
        "10-arr"
      ],
      "metadata": {
        "colab": {
          "base_uri": "https://localhost:8080/"
        },
        "id": "jug73CAZQ7RV",
        "outputId": "6bdafa2b-077b-4452-d47b-09a264904ab7"
      },
      "execution_count": null,
      "outputs": [
        {
          "output_type": "execute_result",
          "data": {
            "text/plain": [
              "array([[9, 8, 7],\n",
              "       [6, 5, 4]])"
            ]
          },
          "metadata": {},
          "execution_count": 160
        }
      ]
    },
    {
      "cell_type": "code",
      "source": [
        "arr*3"
      ],
      "metadata": {
        "colab": {
          "base_uri": "https://localhost:8080/"
        },
        "id": "PcK0Z4oFQ9Gt",
        "outputId": "a5170ae1-1313-4f24-b0ea-d96d9cf4ee6d"
      },
      "execution_count": null,
      "outputs": [
        {
          "output_type": "execute_result",
          "data": {
            "text/plain": [
              "array([[ 3,  6,  9],\n",
              "       [12, 15, 18]])"
            ]
          },
          "metadata": {},
          "execution_count": 161
        }
      ]
    },
    {
      "cell_type": "code",
      "source": [
        "arr2 = np.array([100,200,300])"
      ],
      "metadata": {
        "id": "Q0xYlEL7Q_-N"
      },
      "execution_count": null,
      "outputs": []
    },
    {
      "cell_type": "code",
      "source": [
        "arr4 = np.array([[100],[200]])\n",
        "arr4\n",
        "arr+arr4"
      ],
      "metadata": {
        "colab": {
          "base_uri": "https://localhost:8080/"
        },
        "id": "t7W40-kZSUao",
        "outputId": "c072e1ea-68da-41e8-dd65-261bb054d47b"
      },
      "execution_count": null,
      "outputs": [
        {
          "output_type": "execute_result",
          "data": {
            "text/plain": [
              "array([[101, 102, 103],\n",
              "       [204, 205, 206]])"
            ]
          },
          "metadata": {},
          "execution_count": 169
        }
      ]
    },
    {
      "cell_type": "code",
      "source": [
        "arr3=np.array([100,200])"
      ],
      "metadata": {
        "id": "PpTNUTPQRZV1"
      },
      "execution_count": null,
      "outputs": []
    },
    {
      "cell_type": "code",
      "source": [
        "arr+arr3"
      ],
      "metadata": {
        "id": "Uvvzklg8Rbuu"
      },
      "execution_count": null,
      "outputs": []
    },
    {
      "cell_type": "code",
      "source": [
        "list_1 = [1,2,3]\n",
        "arr_1 = np.array([1,2,3])\n",
        "arr_1+arr_1"
      ],
      "metadata": {
        "colab": {
          "base_uri": "https://localhost:8080/"
        },
        "id": "gyv2WjHHRgn2",
        "outputId": "4d1042e0-cd43-4002-c9de-fdaa819f632c"
      },
      "execution_count": null,
      "outputs": [
        {
          "output_type": "execute_result",
          "data": {
            "text/plain": [
              "array([2, 4, 6])"
            ]
          },
          "metadata": {},
          "execution_count": 165
        }
      ]
    },
    {
      "cell_type": "markdown",
      "source": [
        "- dtype\n",
        "  - 배열에 담긴 원소의 자료형(ndarray는 같은 자료형을 담음)"
      ],
      "metadata": {
        "id": "DzlrVckUWJTA"
      }
    },
    {
      "cell_type": "code",
      "source": [
        "arr.dtype"
      ],
      "metadata": {
        "colab": {
          "base_uri": "https://localhost:8080/"
        },
        "id": "EXTiaP_wSEF-",
        "outputId": "d461f8bd-10c5-4846-bddd-0f04e2b05967"
      },
      "execution_count": null,
      "outputs": [
        {
          "output_type": "execute_result",
          "data": {
            "text/plain": [
              "dtype('int64')"
            ]
          },
          "metadata": {},
          "execution_count": 170
        }
      ]
    },
    {
      "cell_type": "markdown",
      "source": [
        "- size\n",
        "  - 배열에 있는 원소의 전체 갯수"
      ],
      "metadata": {
        "id": "wka25EUvWS0g"
      }
    },
    {
      "cell_type": "code",
      "source": [
        "arr.size"
      ],
      "metadata": {
        "colab": {
          "base_uri": "https://localhost:8080/"
        },
        "id": "7_nfSxXfTHNG",
        "outputId": "888e748c-012b-4aad-98d4-15f0df81b1aa"
      },
      "execution_count": null,
      "outputs": [
        {
          "output_type": "execute_result",
          "data": {
            "text/plain": [
              "6"
            ]
          },
          "metadata": {},
          "execution_count": 171
        }
      ]
    },
    {
      "cell_type": "markdown",
      "source": [
        "- ndim\n",
        "  - 배열의 차원 갯수"
      ],
      "metadata": {
        "id": "dONUlYOOWeP3"
      }
    },
    {
      "cell_type": "code",
      "source": [
        "arr.ndim"
      ],
      "metadata": {
        "colab": {
          "base_uri": "https://localhost:8080/"
        },
        "id": "lB_ZDg3KWbWh",
        "outputId": "e6be0a8f-f510-430a-cb9e-f1e18ccb9921"
      },
      "execution_count": null,
      "outputs": [
        {
          "output_type": "execute_result",
          "data": {
            "text/plain": [
              "2"
            ]
          },
          "metadata": {},
          "execution_count": 172
        }
      ]
    },
    {
      "cell_type": "code",
      "source": [
        "arr.shape"
      ],
      "metadata": {
        "colab": {
          "base_uri": "https://localhost:8080/"
        },
        "id": "MsMaw5XhWdMQ",
        "outputId": "b1c0ba5e-71de-4268-96a3-480758adf173"
      },
      "execution_count": null,
      "outputs": [
        {
          "output_type": "execute_result",
          "data": {
            "text/plain": [
              "(2, 3)"
            ]
          },
          "metadata": {},
          "execution_count": 173
        }
      ]
    },
    {
      "cell_type": "markdown",
      "source": [
        "- 0차원(상수)"
      ],
      "metadata": {
        "id": "za5jALnbWt-z"
      }
    },
    {
      "cell_type": "code",
      "source": [
        "import numpy as np\n",
        "a = np.array(10)\n",
        "print(a)\n",
        "print(a.ndim)"
      ],
      "metadata": {
        "colab": {
          "base_uri": "https://localhost:8080/"
        },
        "id": "-a-tyeM0Wl-g",
        "outputId": "e514cdae-9e0a-45cc-9378-81bc44dc139b"
      },
      "execution_count": null,
      "outputs": [
        {
          "output_type": "stream",
          "name": "stdout",
          "text": [
            "10\n",
            "0\n"
          ]
        }
      ]
    },
    {
      "cell_type": "markdown",
      "source": [
        "- 1차원"
      ],
      "metadata": {
        "id": "Z-13iy8PW26I"
      }
    },
    {
      "cell_type": "code",
      "source": [
        "a = np.array([1,2,3])\n",
        "print(a)\n",
        "print(a.ndim)"
      ],
      "metadata": {
        "colab": {
          "base_uri": "https://localhost:8080/"
        },
        "id": "x_2ufHXRWsFX",
        "outputId": "75c458ae-df09-488d-d9d3-98e87a6bb56e"
      },
      "execution_count": null,
      "outputs": [
        {
          "output_type": "stream",
          "name": "stdout",
          "text": [
            "[1 2 3]\n",
            "1\n"
          ]
        }
      ]
    },
    {
      "cell_type": "markdown",
      "source": [
        "- 2차원"
      ],
      "metadata": {
        "id": "uknS_9oPXYDo"
      }
    },
    {
      "cell_type": "code",
      "source": [
        "a = np.array([[1,2],[3,4]])\n",
        "print(a)\n",
        "print(a.ndim)"
      ],
      "metadata": {
        "colab": {
          "base_uri": "https://localhost:8080/"
        },
        "id": "BaeM5JyEW0A3",
        "outputId": "70b6bb45-006c-47a6-c968-3b28e225d069"
      },
      "execution_count": null,
      "outputs": [
        {
          "output_type": "stream",
          "name": "stdout",
          "text": [
            "[[1 2]\n",
            " [3 4]]\n",
            "2\n"
          ]
        }
      ]
    },
    {
      "cell_type": "markdown",
      "source": [
        "- 3차원"
      ],
      "metadata": {
        "id": "DGnpy_NOX4Cg"
      }
    },
    {
      "cell_type": "code",
      "source": [
        "a = np.array([[[1,2],[3,4]]])\n",
        "print(a)\n",
        "print(a.ndim)\n",
        "print(a.shape)"
      ],
      "metadata": {
        "colab": {
          "base_uri": "https://localhost:8080/"
        },
        "id": "maacEm6EXWSR",
        "outputId": "f5d364e3-98ef-4738-d801-2283b6ebc4a3"
      },
      "execution_count": null,
      "outputs": [
        {
          "output_type": "stream",
          "name": "stdout",
          "text": [
            "[[[1 2]\n",
            "  [3 4]]]\n",
            "3\n",
            "(1, 2, 2)\n"
          ]
        }
      ]
    },
    {
      "cell_type": "markdown",
      "source": [
        "- range 함수를 이용"
      ],
      "metadata": {
        "id": "4uilIBwWYUg4"
      }
    },
    {
      "cell_type": "code",
      "source": [
        "arr1 = np.array(range(20))\n",
        "arr1"
      ],
      "metadata": {
        "colab": {
          "base_uri": "https://localhost:8080/"
        },
        "id": "I6u2TmdQXy7h",
        "outputId": "7a4f53ef-c69a-40a2-da36-b127663d6447"
      },
      "execution_count": null,
      "outputs": [
        {
          "output_type": "execute_result",
          "data": {
            "text/plain": [
              "array([ 0,  1,  2,  3,  4,  5,  6,  7,  8,  9, 10, 11, 12, 13, 14, 15, 16,\n",
              "       17, 18, 19])"
            ]
          },
          "metadata": {},
          "execution_count": 181
        }
      ]
    },
    {
      "cell_type": "code",
      "source": [
        "arr2 = np.arange(20)\n",
        "arr2"
      ],
      "metadata": {
        "colab": {
          "base_uri": "https://localhost:8080/"
        },
        "id": "vcP5WsLyYf2o",
        "outputId": "a8e96038-86fa-4656-f6f7-89eabb840def"
      },
      "execution_count": null,
      "outputs": [
        {
          "output_type": "execute_result",
          "data": {
            "text/plain": [
              "array([ 0,  1,  2,  3,  4,  5,  6,  7,  8,  9, 10, 11, 12, 13, 14, 15, 16,\n",
              "       17, 18, 19])"
            ]
          },
          "metadata": {},
          "execution_count": 182
        }
      ]
    },
    {
      "cell_type": "markdown",
      "source": [
        "- zeros"
      ],
      "metadata": {
        "id": "ur-dPMSebHMC"
      }
    },
    {
      "cell_type": "code",
      "source": [
        "np.zeros(5)"
      ],
      "metadata": {
        "colab": {
          "base_uri": "https://localhost:8080/"
        },
        "id": "-UbtOua4Yi9x",
        "outputId": "2d25eb10-d464-4738-eb91-ba5e47563b03"
      },
      "execution_count": null,
      "outputs": [
        {
          "output_type": "execute_result",
          "data": {
            "text/plain": [
              "array([0., 0., 0., 0., 0.])"
            ]
          },
          "metadata": {},
          "execution_count": 184
        }
      ]
    },
    {
      "cell_type": "code",
      "source": [
        "np.ones((3,3))"
      ],
      "metadata": {
        "colab": {
          "base_uri": "https://localhost:8080/"
        },
        "id": "n4v8Yg96aRuY",
        "outputId": "75696c5b-5647-4bed-8c9f-dfef1644fbde"
      },
      "execution_count": null,
      "outputs": [
        {
          "output_type": "execute_result",
          "data": {
            "text/plain": [
              "array([[1., 1., 1.],\n",
              "       [1., 1., 1.],\n",
              "       [1., 1., 1.]])"
            ]
          },
          "metadata": {},
          "execution_count": 185
        }
      ]
    },
    {
      "cell_type": "code",
      "source": [
        "np.arange(-3,3)"
      ],
      "metadata": {
        "colab": {
          "base_uri": "https://localhost:8080/"
        },
        "id": "aZaOZ1ZWbODh",
        "outputId": "fd2ae4d5-b699-4487-c2da-699d707f4af3"
      },
      "execution_count": null,
      "outputs": [
        {
          "output_type": "execute_result",
          "data": {
            "text/plain": [
              "array([-3, -2, -1,  0,  1,  2])"
            ]
          },
          "metadata": {},
          "execution_count": 186
        }
      ]
    },
    {
      "cell_type": "code",
      "source": [
        "np.arange(3,50,3)"
      ],
      "metadata": {
        "colab": {
          "base_uri": "https://localhost:8080/"
        },
        "id": "MY7f4TxEbZLB",
        "outputId": "a5018cd8-259f-4f94-f56a-f125f4c32819"
      },
      "execution_count": null,
      "outputs": [
        {
          "output_type": "execute_result",
          "data": {
            "text/plain": [
              "array([ 3,  6,  9, 12, 15, 18, 21, 24, 27, 30, 33, 36, 39, 42, 45, 48])"
            ]
          },
          "metadata": {},
          "execution_count": 187
        }
      ]
    },
    {
      "cell_type": "code",
      "source": [
        "np.linspace(0,1,6)"
      ],
      "metadata": {
        "colab": {
          "base_uri": "https://localhost:8080/"
        },
        "id": "2B-o4nM8bb31",
        "outputId": "dbe35116-3641-4bae-c446-38d1e2c9b12f"
      },
      "execution_count": null,
      "outputs": [
        {
          "output_type": "execute_result",
          "data": {
            "text/plain": [
              "array([0. , 0.2, 0.4, 0.6, 0.8, 1. ])"
            ]
          },
          "metadata": {},
          "execution_count": 188
        }
      ]
    },
    {
      "cell_type": "markdown",
      "source": [
        "-배열 결합 함수.\n",
        " - hstack, concatenate(axis=0)\n",
        " - 두 배열을 왼쪽에서 오른쪽으로 붙이기."
      ],
      "metadata": {
        "id": "kfYOENy9j44m"
      }
    },
    {
      "cell_type": "code",
      "source": [
        "a = np.array([1,2,3])\n",
        "b = np.array([4,5,6])\n",
        "np.hstack([a,b])"
      ],
      "metadata": {
        "colab": {
          "base_uri": "https://localhost:8080/"
        },
        "id": "VZcfGvq9j7OI",
        "outputId": "aded9e5c-65f7-4c4e-f956-f621753aa596"
      },
      "execution_count": null,
      "outputs": [
        {
          "output_type": "execute_result",
          "data": {
            "text/plain": [
              "array([1, 2, 3, 4, 5, 6])"
            ]
          },
          "metadata": {},
          "execution_count": 190
        }
      ]
    },
    {
      "cell_type": "code",
      "source": [
        "np.concatenate((a,b),axis=0)"
      ],
      "metadata": {
        "colab": {
          "base_uri": "https://localhost:8080/"
        },
        "id": "Bii50OPQb8eJ",
        "outputId": "3e2db73e-4330-42e8-e417-9e82f6264158"
      },
      "execution_count": null,
      "outputs": [
        {
          "output_type": "execute_result",
          "data": {
            "text/plain": [
              "array([1, 2, 3, 4, 5, 6])"
            ]
          },
          "metadata": {},
          "execution_count": 191
        }
      ]
    },
    {
      "cell_type": "code",
      "source": [
        "a = np.array([[1,2],[3,4]])\n",
        "b = np.array([[5,6],[7,8]])\n",
        "np.hstack([a,b])"
      ],
      "metadata": {
        "colab": {
          "base_uri": "https://localhost:8080/"
        },
        "id": "Td97pjHEjtDf",
        "outputId": "5a166deb-3b0b-4dd2-bb23-9e12b39c2c86"
      },
      "execution_count": null,
      "outputs": [
        {
          "output_type": "execute_result",
          "data": {
            "text/plain": [
              "array([[1, 2, 5, 6],\n",
              "       [3, 4, 7, 8]])"
            ]
          },
          "metadata": {},
          "execution_count": 192
        }
      ]
    },
    {
      "cell_type": "code",
      "source": [
        "np.concatenate((a,b),axis=0)"
      ],
      "metadata": {
        "colab": {
          "base_uri": "https://localhost:8080/"
        },
        "id": "ZL_AMiKQkWl-",
        "outputId": "9ec962d6-c70c-4f88-9d3e-5ad5aca7ee0b"
      },
      "execution_count": null,
      "outputs": [
        {
          "output_type": "execute_result",
          "data": {
            "text/plain": [
              "array([[1, 2],\n",
              "       [3, 4],\n",
              "       [5, 6],\n",
              "       [7, 8]])"
            ]
          },
          "metadata": {},
          "execution_count": 193
        }
      ]
    },
    {
      "cell_type": "markdown",
      "source": [
        "- vstack(vertical), concatenate(axis = 1)"
      ],
      "metadata": {
        "id": "FUNLgHQZkwWp"
      }
    },
    {
      "cell_type": "code",
      "source": [
        "a = np.array([1,2,3])\n",
        "b = np.array([4,5,6])\n",
        "np.vstack([a,b])"
      ],
      "metadata": {
        "id": "gUMHPQ-5kaPP"
      },
      "execution_count": null,
      "outputs": []
    },
    {
      "cell_type": "code",
      "source": [
        "np.concatenate((a,b),axis=1) #1D vector는 안됨"
      ],
      "metadata": {
        "id": "CQej2aW1lJvQ"
      },
      "execution_count": null,
      "outputs": []
    },
    {
      "cell_type": "code",
      "source": [
        "c = np.array([[0,1,2],[3,4,5]])\n",
        "d = np.array([[6,7,8],[9,10,11]])\n",
        "np.concatenate((c,d),axis=1)"
      ],
      "metadata": {
        "colab": {
          "base_uri": "https://localhost:8080/"
        },
        "id": "6dfphyW3lZYq",
        "outputId": "272701a5-8b30-42a2-db17-4df803bfb73d"
      },
      "execution_count": null,
      "outputs": [
        {
          "output_type": "execute_result",
          "data": {
            "text/plain": [
              "array([[ 0,  1,  2,  6,  7,  8],\n",
              "       [ 3,  4,  5,  9, 10, 11]])"
            ]
          },
          "metadata": {},
          "execution_count": 196
        }
      ]
    },
    {
      "cell_type": "markdown",
      "source": [
        "- 두 배열을 위 아래로 붙이기"
      ],
      "metadata": {
        "id": "Mqc8hLNjmIUF"
      }
    },
    {
      "cell_type": "code",
      "source": [
        "a,b"
      ],
      "metadata": {
        "colab": {
          "base_uri": "https://localhost:8080/"
        },
        "id": "K3xOirTpl6bV",
        "outputId": "dfc551e7-d2ab-4860-d3a3-a627b04549c1"
      },
      "execution_count": null,
      "outputs": [
        {
          "output_type": "execute_result",
          "data": {
            "text/plain": [
              "(array([1, 2, 3]), array([4, 5, 6]))"
            ]
          },
          "metadata": {},
          "execution_count": 199
        }
      ]
    },
    {
      "cell_type": "code",
      "source": [
        "np.column_stack([a,b])"
      ],
      "metadata": {
        "colab": {
          "base_uri": "https://localhost:8080/"
        },
        "id": "YSchr5i8mDk-",
        "outputId": "fc4e44e0-9706-482b-b089-1365c353977f"
      },
      "execution_count": null,
      "outputs": [
        {
          "output_type": "execute_result",
          "data": {
            "text/plain": [
              "array([[1, 4],\n",
              "       [2, 5],\n",
              "       [3, 6]])"
            ]
          },
          "metadata": {},
          "execution_count": 200
        }
      ]
    },
    {
      "cell_type": "markdown",
      "source": [],
      "metadata": {
        "id": "jfpwwxglmegu"
      }
    },
    {
      "cell_type": "markdown",
      "source": [],
      "metadata": {
        "id": "Gn2T82Q3meSU"
      }
    },
    {
      "cell_type": "code",
      "source": [
        "import random\n",
        "import numpy as np"
      ],
      "metadata": {
        "id": "f9o_J0oBmGwB"
      },
      "execution_count": null,
      "outputs": []
    },
    {
      "cell_type": "code",
      "source": [
        "random.random() # 0<=리턴값<=1"
      ],
      "metadata": {
        "colab": {
          "base_uri": "https://localhost:8080/"
        },
        "id": "X7FBe1ohmjdN",
        "outputId": "3ce4f21d-0690-43d3-b517-105cfc9e430b"
      },
      "execution_count": null,
      "outputs": [
        {
          "output_type": "execute_result",
          "data": {
            "text/plain": [
              "0.11753679814057993"
            ]
          },
          "metadata": {},
          "execution_count": 203
        }
      ]
    },
    {
      "cell_type": "code",
      "source": [
        "date = [1,2,3,4,5,6,7]\n",
        "np.random.choice(date,3)"
      ],
      "metadata": {
        "colab": {
          "base_uri": "https://localhost:8080/"
        },
        "id": "4Szmvn3amoju",
        "outputId": "23c1548d-13f2-4125-913a-7db237124e64"
      },
      "execution_count": null,
      "outputs": [
        {
          "output_type": "execute_result",
          "data": {
            "text/plain": [
              "array([1, 6, 2])"
            ]
          },
          "metadata": {},
          "execution_count": 206
        }
      ]
    },
    {
      "cell_type": "code",
      "source": [
        "data = ['apple','banana','grape','orange']\n",
        "random.choice(data)"
      ],
      "metadata": {
        "colab": {
          "base_uri": "https://localhost:8080/",
          "height": 35
        },
        "id": "nG9aQPLimz-2",
        "outputId": "c45eeae3-fa1f-4dfe-99b3-5dc823de1f97"
      },
      "execution_count": null,
      "outputs": [
        {
          "output_type": "execute_result",
          "data": {
            "text/plain": [
              "'apple'"
            ],
            "application/vnd.google.colaboratory.intrinsic+json": {
              "type": "string"
            }
          },
          "metadata": {},
          "execution_count": 209
        }
      ]
    },
    {
      "cell_type": "markdown",
      "source": [
        "- seed\n",
        "  - 난수 초기값 부여 -> 재현 가능성(reproducibility)"
      ],
      "metadata": {
        "id": "TFpzKiZ8ndXx"
      }
    },
    {
      "cell_type": "code",
      "source": [
        "np.random.seed(42)"
      ],
      "metadata": {
        "id": "laJLAY1OnR5l"
      },
      "execution_count": null,
      "outputs": []
    },
    {
      "cell_type": "code",
      "source": [
        "np.random.rand(1000) # 정규분포"
      ],
      "metadata": {
        "id": "VQMsbX2Ln2JI"
      },
      "execution_count": null,
      "outputs": []
    },
    {
      "cell_type": "code",
      "source": [
        "date = range(1,46)\n",
        "d= np.random.choice(date,6)\n",
        "\n",
        "n = int(input(('로또 번호를 몇 개 생성할까요? > ')))\n",
        "\n",
        "for i in range(n):\n",
        "  print(\"로또 번호 :\",d)\n",
        "  \n"
      ],
      "metadata": {
        "colab": {
          "base_uri": "https://localhost:8080/"
        },
        "id": "xTezJTnAn7hI",
        "outputId": "0b3aaa81-474c-4d10-b2e0-f96ed20a1799"
      },
      "execution_count": null,
      "outputs": [
        {
          "output_type": "stream",
          "name": "stdout",
          "text": [
            "로또 번호를 몇 개 생성할까요? > 7\n",
            "로또 번호 : [45 32 37 30 45 43]\n",
            "로또 번호 : [45 32 37 30 45 43]\n",
            "로또 번호 : [45 32 37 30 45 43]\n",
            "로또 번호 : [45 32 37 30 45 43]\n",
            "로또 번호 : [45 32 37 30 45 43]\n",
            "로또 번호 : [45 32 37 30 45 43]\n",
            "로또 번호 : [45 32 37 30 45 43]\n"
          ]
        }
      ]
    },
    {
      "cell_type": "code",
      "source": [
        "import numpy as np\n",
        "def make_lotto(count):\n",
        "  for i in range(count):\n",
        "    lotto_num = [] # 로또 번호가 담길 리스트 함수\n",
        "    for j in range(6):\n",
        "      lotto_num = np.random.choice(range(1,46),6,replace=False) #중복 추출\n",
        "      lotto_num.sort() # 값 정렬\n",
        "    print('{},로또번호:{}'.format(i+1,lotto_num))"
      ],
      "metadata": {
        "id": "1TeAUnzGrztZ"
      },
      "execution_count": null,
      "outputs": []
    },
    {
      "cell_type": "code",
      "source": [
        "count = int(input('로또 번호를 몇 개 생성할까요?'))\n",
        "make_lotto(count)"
      ],
      "metadata": {
        "colab": {
          "base_uri": "https://localhost:8080/"
        },
        "id": "O7uD6cL_od8B",
        "outputId": "02d54c61-4e48-44fb-9c93-aa4be6e526c2"
      },
      "execution_count": null,
      "outputs": [
        {
          "output_type": "stream",
          "name": "stdout",
          "text": [
            "로또 번호를 몇 개 생성할까요?4\n",
            "1,로또번호:[ 4 16 17 24 31 42]\n",
            "2,로또번호:[22 27 29 35 37 38]\n",
            "3,로또번호:[15 17 21 30 34 45]\n",
            "4,로또번호:[14 17 18 30 36 44]\n"
          ]
        }
      ]
    }
  ],
  "metadata": {
    "colab": {
      "provenance": [],
      "authorship_tag": "ABX9TyP2CjFp1dMpeJWx8KPZOlXf",
      "include_colab_link": true
    },
    "kernelspec": {
      "display_name": "Python 3",
      "name": "python3"
    },
    "language_info": {
      "name": "python"
    }
  },
  "nbformat": 4,
  "nbformat_minor": 0
}